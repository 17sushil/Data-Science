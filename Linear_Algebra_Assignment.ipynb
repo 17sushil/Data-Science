{
 "cells": [
  {
   "cell_type": "markdown",
   "metadata": {},
   "source": [
    "### Sushil Ghimire\n",
    "### ACE080BCT090"
   ]
  },
  {
   "cell_type": "markdown",
   "metadata": {},
   "source": [
    "## Linear Algebra Task"
   ]
  },
  {
   "cell_type": "code",
   "execution_count": 5,
   "metadata": {},
   "outputs": [],
   "source": [
    "import numpy as np\n",
    "import matplotlib.pyplot as plt\n"
   ]
  },
  {
   "cell_type": "markdown",
   "metadata": {},
   "source": [
    "### Matrix Operation"
   ]
  },
  {
   "cell_type": "code",
   "execution_count": 6,
   "metadata": {},
   "outputs": [
    {
     "name": "stdout",
     "output_type": "stream",
     "text": [
      "A+B =  [[ 3  1]\n",
      " [-3  7]]\n",
      "AB =  [[ 5  0]\n",
      " [-9 12]]\n",
      "3A-2B =  [[ 4 -7]\n",
      " [ 6  1]]\n"
     ]
    }
   ],
   "source": [
    "\n",
    "\n",
    "A = np.array ([[2,-1],[0,3]])\n",
    "B = np.array ([[1,2],[-3,4]])\n",
    "\n",
    "#a. A+B\n",
    "print(\"A+B = \", np.add(A,B))\n",
    "#b. AB\n",
    "\n",
    "print(\"AB = \",np.dot(A,B))\n",
    "#c. 3A−2B\n",
    "\n",
    "print(\"3A-2B = \",np.add(np.multiply(3,A) , np.multiply(-2,B)))"
   ]
  },
  {
   "cell_type": "markdown",
   "metadata": {},
   "source": [
    "### Determinant and Inverse"
   ]
  },
  {
   "cell_type": "code",
   "execution_count": 7,
   "metadata": {},
   "outputs": [
    {
     "name": "stdout",
     "output_type": "stream",
     "text": [
      "6.0\n"
     ]
    }
   ],
   "source": [
    "#Find the determinant of A.\n",
    "print(np.linalg.det(A)) # Output: 6.0 so it is invertible and its inverse exist."
   ]
  },
  {
   "cell_type": "code",
   "execution_count": 8,
   "metadata": {},
   "outputs": [
    {
     "name": "stdout",
     "output_type": "stream",
     "text": [
      "[[0.5        0.16666667]\n",
      " [0.         0.33333333]]\n"
     ]
    }
   ],
   "source": [
    "#finding A-1(inverse of matrix A)\n",
    "print(np.linalg.inv(A))"
   ]
  },
  {
   "cell_type": "markdown",
   "metadata": {},
   "source": [
    "### Eigenvalues and Eigenvectors"
   ]
  },
  {
   "cell_type": "code",
   "execution_count": 9,
   "metadata": {},
   "outputs": [
    {
     "name": "stdout",
     "output_type": "stream",
     "text": [
      "[3. 2.]\n"
     ]
    }
   ],
   "source": [
    "#Compute the eigenvalues  eigenvectors \n",
    "\n",
    "C= np.array([[4,1],[-2,1]])\n",
    "print(np.linalg.eigvals(C))"
   ]
  },
  {
   "cell_type": "code",
   "execution_count": 10,
   "metadata": {},
   "outputs": [
    {
     "name": "stdout",
     "output_type": "stream",
     "text": [
      "EigResult(eigenvalues=array([3., 2.]), eigenvectors=array([[ 0.70710678, -0.4472136 ],\n",
      "       [-0.70710678,  0.89442719]]))\n"
     ]
    }
   ],
   "source": [
    "#Compute the eigenvectors\n",
    "print(np.linalg.eig(C))"
   ]
  },
  {
   "cell_type": "markdown",
   "metadata": {},
   "source": [
    "### Price determination Problem"
   ]
  },
  {
   "cell_type": "code",
   "execution_count": 4,
   "metadata": {},
   "outputs": [
    {
     "name": "stdout",
     "output_type": "stream",
     "text": [
      "Predicted price of car3: 39.99999999999997\n"
     ]
    }
   ],
   "source": [
    "'''4. \n",
    "You are given a dataset of cars with the following features:Number of cylinders (x1​)Engine size in liters (x2​)Horsepower (x3)\n",
    "car 1:\n",
    "x1: 4\n",
    "x2:  1.5\n",
    "x3: 100\n",
    "and price: 20\n",
    "\n",
    "car 2:\n",
    "x1: 6\n",
    "x2:  2.0\n",
    "x3: 150\n",
    "and price: 30\n",
    "\n",
    "Then, find the price of a car 3 with features\n",
    "x1: 8\n",
    "x2:  3.0\n",
    "x3: 200\n",
    "price:?\n",
    "'''\n",
    "import numpy as np\n",
    "X=np.array([[4,1.5,100],[6,2.0,150]]) # X is a feature Matrix\n",
    "car3= np.array([8, 3.0, 200])\n",
    "Y=np.array([20,30])\n",
    "B = np.matmul(np.linalg.pinv(X), Y)\n",
    "price_of_car_3 = np.matmul(car3, B)\n",
    "print(\"Predicted price of car3:\", price_of_car_3)\n"
   ]
  }
 ],
 "metadata": {
  "kernelspec": {
   "display_name": "Python 3",
   "language": "python",
   "name": "python3"
  },
  "language_info": {
   "codemirror_mode": {
    "name": "ipython",
    "version": 3
   },
   "file_extension": ".py",
   "mimetype": "text/x-python",
   "name": "python",
   "nbconvert_exporter": "python",
   "pygments_lexer": "ipython3",
   "version": "3.13.0"
  }
 },
 "nbformat": 4,
 "nbformat_minor": 2
}
